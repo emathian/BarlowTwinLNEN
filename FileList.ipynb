{
 "cells": [
  {
   "cell_type": "code",
   "execution_count": 2,
   "id": "7cd5c928",
   "metadata": {},
   "outputs": [],
   "source": [
    "import os\n",
    "import matplotlib.pyplot as plt\n",
    "import numpy as np\n",
    "import random\n",
    "import pandas as pd"
   ]
  },
  {
   "cell_type": "markdown",
   "id": "73df9d68",
   "metadata": {},
   "source": [
    "## Dev"
   ]
  },
  {
   "cell_type": "code",
   "execution_count": 6,
   "id": "e679ab9a",
   "metadata": {},
   "outputs": [],
   "source": [
    "root_tiles = '/gpfsscratch/rech/uli/ueu39kt/Tiles_HE_all_samples_384_384_Vahadane_2'\n",
    "test_tiles_list = []\n",
    "\n",
    "for folder in os.listdir(root_tiles):\n",
    "    if folder.find('TNE0417') != -1 and folder.find('.txt') == -1:\n",
    "        for tile in os.listdir(os.path.join(root_tiles, folder, 'accept')):\n",
    "            if len(test_tiles_list) < 1000:\n",
    "                test_tiles_list.append(os.path.join(root_tiles, folder, 'accept', tile))\n",
    "            else:\n",
    "                break\n",
    "        break"
   ]
  },
  {
   "cell_type": "code",
   "execution_count": 7,
   "id": "0dfd6dd7",
   "metadata": {},
   "outputs": [],
   "source": [
    "with open(os.path.join(root_tiles, 'dev_barlow_twins.txt'), 'w') as f:\n",
    "    for ele in test_tiles_list:\n",
    "        f.write(ele+'\\n')"
   ]
  },
  {
   "cell_type": "markdown",
   "id": "d1d45d10",
   "metadata": {},
   "source": [
    "## All tiles "
   ]
  },
  {
   "cell_type": "code",
   "execution_count": 3,
   "id": "9d070406",
   "metadata": {},
   "outputs": [
    {
     "data": {
      "text/plain": [
       "0      TNE0056\n",
       "1      TNE0057\n",
       "2      TNE0058\n",
       "3      TNE0060\n",
       "4      TNE0061\n",
       "        ...   \n",
       "260    TNE1009\n",
       "261    TNE0005\n",
       "262    TNE1080\n",
       "263    TNE1082\n",
       "264    TNE1087\n",
       "Name: ID slide (optional), Length: 265, dtype: object"
      ]
     },
     "execution_count": 3,
     "metadata": {},
     "output_type": "execute_result"
    }
   ],
   "source": [
    "path_review_id = pd.read_csv(\"TNEID_Included_path_review.csv\")\n",
    "path_review_id['ID slide (optional)']"
   ]
  },
  {
   "cell_type": "code",
   "execution_count": 24,
   "id": "06e8dcee",
   "metadata": {},
   "outputs": [
    {
     "name": "stdout",
     "output_type": "stream",
     "text": [
      "folder for train/test  TNE1019\n",
      "folder for train/test  TNE1502-HES\n",
      "folder for train/test  TNE0894\n",
      "folder for train/test  TNE0485.svs\n",
      "folder for train/test  TNE0005\n",
      "folder for train/test  TNE0806\n",
      "folder for train/test  TNE0542\n",
      "folder for train/test  TNE0966.svs\n",
      "folder for train/test  TNE0887\n",
      "TNE1454\n",
      "folder for train/test  TNE1422\n",
      "folder for train/test  TNE1415\n",
      "folder for train/test  TNE0969.svs\n",
      "folder for train/test  TNE1010\n",
      "folder for train/test  TNE0952.svs\n",
      "folder for train/test  TNE1900-HES\n",
      "folder for test  TNE0017\n",
      "TNE2117\n",
      "folder for train/test  TNE2155\n",
      "folder for train/test  TNE0406.svs\n",
      "folder for train/test  TNE1367\n",
      "folder for train/test  TNE0387-HPS\n",
      "folder for train/test  TNE0075\n",
      "folder for train/test  TNE1499\n",
      "folder for train/test  TNE1442\n",
      "TNE0287-HPS\n",
      "TNE0547\n",
      "folder for train/test  TNE0993-HES\n",
      "TNE1435\n",
      "folder for train/test  TNE0892\n",
      "folder for train/test  TNE1428\n",
      "folder for train/test  TNE1023\n",
      "folder for train/test  TNE0869\n",
      "TNE0794\n",
      "folder for train/test  TNE1098-HES\n",
      "folder for train/test  TNE0360-HPS\n",
      "folder for train/test  TNE0972-HES\n",
      "folder for test  TNE0230\n",
      "folder for train/test  TNE1511-HES\n",
      "folder for train/test  TNE0080\n",
      "folder for train/test  TNE0881\n",
      "folder for train/test  TNE1448\n",
      "folder for test  TNE1416\n",
      "folder for train/test  TNE0975-HES\n",
      "folder for train/test  TNE1011\n",
      "folder for train/test  TNE0057\n",
      "TNE0994-HES\n",
      "folder for train/test  TNE0965-HES\n",
      "folder for train/test  TNE0974-HES\n",
      "folder for train/test  TNE1085-HES\n",
      "folder for train/test  TNE0034\n",
      "folder for train/test  TNE1007-HES\n",
      "folder for train/test  TNE1487-HPS.svs\n",
      "folder for train/test  TNE0027\n",
      "folder for test  TNE0004\n",
      "folder for train/test  TNE0235\n",
      "folder for train/test  TNE1429\n",
      "folder for train/test  TNE1024\n",
      "folder for train/test  TNE0886\n",
      "folder for test  TNE1017\n",
      "TNE0567.svs\n",
      "folder for train/test  TNE0979-HES\n",
      "folder for train/test  TNE0228\n",
      "folder for train/test  TNE0263.svs\n",
      "folder for train/test  TNE0879\n",
      "folder for train/test  TNE0999-HES\n",
      "folder for train/test  TNE1003-HES\n",
      "folder for test  TNE0997-HES\n",
      "folder for train/test  TNE1452\n",
      "folder for train/test  TNE1420\n",
      "folder for train/test  TNE0504\n",
      "folder for train/test  TNE0009\n",
      "TNE233\n",
      "folder for train/test  TNE0891\n",
      "folder for test  TNE0524.svs\n",
      "folder for train/test  TNE0067\n",
      "folder for train/test  TNE1365\n",
      "folder for train/test  TNE0803\n",
      "folder for train/test  TNE0233\n",
      "folder for train/test  TNE1007-HES.svs\n",
      "folder for train/test  TNE1404-HPS\n",
      "TNE1440\n",
      "folder for train/test  TNE0884\n",
      "folder for train/test  TNE1433\n",
      "folder for train/test  TNE0936\n",
      "folder for test  TNE0861\n",
      "folder for train/test  TNE1410-HES\n",
      "folder for train/test  TNE0986-HES\n",
      "folder for train/test  TNE0079\n",
      "folder for train/test  TNE0963.svs\n",
      "folder for train/test  TNE1080-HES\n",
      "TNE0590-001\n",
      "folder for train/test  TNE0072\n",
      "folder for train/test  TNE0873\n",
      "TNE0510-HES\n",
      "folder for train/test  TNE0798\n",
      "folder for train/test  TNE1446\n",
      "folder for train/test  TNE1421\n",
      "folder for train/test  TNE1414\n",
      "folder for train/test  TNE1909-HES\n",
      "folder for train/test  TNE0404.svs\n",
      "folder for train/test  TNE0866\n",
      "folder for train/test  TNE0985-HES\n",
      "TNE0591.svs\n",
      "folder for train/test  TNE1903-HES\n",
      "folder for train/test  TNE1008-HES\n",
      "folder for train/test  TNE0019\n",
      "folder for train/test  TNE2158\n",
      "folder for train/test  TNE1359\n",
      "TNE1334\n",
      "folder for train/test  TNE0807-HES\n",
      "folder for train/test  TNE0227\n",
      "folder for train/test  TNE0416\n",
      "folder for train/test  TNE1493-HES\n",
      "TNE1434\n",
      "folder for train/test  TNE0077\n",
      "TNE2122\n",
      "folder for train/test  TNE0878\n",
      "folder for train/test  TNE1427\n",
      "folder for train/test  TNE1794\n",
      "folder for train/test  TNE0031\n",
      "folder for train/test  TNE0451\n",
      "folder for train/test  TNE1406-HES\n",
      "folder for train/test  TNE0407.svs\n",
      "folder for train/test  TNE0944.svs\n",
      "TNE0278\n",
      "TNE1450\n",
      "TNE0519\n",
      "TNE0486\n",
      "folder for train/test  TNE0001\n",
      "folder for train/test  TNE0232\n",
      "folder for train/test  TNE1505-HES\n",
      "folder for train/test  TNE0883\n",
      "folder for train/test  TNE0531.svs\n",
      "folder for train/test  TNE0860\n",
      "folder for train/test  TNE1508\n",
      "folder for train/test  TNE1090-HES\n",
      "folder for train/test  TNE0479\n",
      "TNE1101-HES\n",
      "TNE2112\n",
      "folder for train/test  TNE1415.svs.svs\n",
      "TNE2150\n",
      "folder for train/test  TNE0876\n",
      "TNE0591-HPS\n",
      "folder for train/test  TNE1431\n",
      "TNE0589\n",
      "folder for train/test  TNE0954.svs\n",
      "folder for train/test  TNE0071\n",
      "folder for train/test  TNE0390.svs\n",
      "folder for train/test  TNE0006\n",
      "folder for train/test  TNE1009\n",
      "folder for train/test  TNE0888\n",
      "folder for train/test  TNE1001-HES\n",
      "folder for train/test  TNE1490\n",
      "folder for test  TNE0865\n",
      "folder for train/test  TNE0405.svs\n",
      "TNE1444\n",
      "folder for train/test  TNE0340-HPS\n",
      "folder for train/test  TNE0018\n",
      "folder for test  TNE1412\n",
      "folder for train/test  TNE0561.svs\n",
      "TNE0529\n",
      "folder for test  TNE0551-HPS\n",
      "folder for train/test  TNE0011\n",
      "folder for train/test  TNE1371\n",
      "folder for train/test  TNE0403.svs\n",
      "folder for test  TNE1364\n",
      "folder for train/test  TNE0961.svs\n",
      "folder for train/test  TNE0893\n",
      "folder for train/test  TNE1496\n",
      "folder for train/test  TNE0988-HES\n",
      "folder for train/test  TNE0408\n",
      "folder for train/test  TNE0870\n",
      "folder for train/test  TNE0069\n",
      "folder for train/test  TNE0795\n",
      "folder for train/test  TNE1432\n",
      "folder for train/test  TNE1906-HES\n",
      "folder for train/test  TNE0805\n",
      "TNE2136\n",
      "folder for train/test  TNE1425\n",
      "folder for train/test  TNE0541\n",
      "folder for train/test  TNE1020\n",
      "folder for train/test  TNE1078-HES\n",
      "folder for train/test  TNE1897-HES\n",
      "folder for train/test  TNE0863\n",
      "folder for train/test  TNE0980-HES\n",
      "folder for train/test  TNE0286-HPS\n",
      "folder for train/test  TNE0081\n",
      "folder for train/test  TNE0016\n",
      "TNE0553\n",
      "folder for train/test  TNE1338\n",
      "folder for train/test  TNE0898\n",
      "folder for train/test  TNE1102-HES\n",
      "folder for train/test  TNE1364-HES\n",
      "folder for train/test  TNE1438\n",
      "folder for test  TNE1413\n",
      "folder for train/test  TNE0875\n",
      "folder for train/test  TNE1026\n",
      "TNE0810\n",
      "folder for train/test  TNE0998-HES\n",
      "folder for train/test  TNE0981-HES\n",
      "folder for train/test  TNE0499.svs\n",
      "folder for train/test  TNE0868.svs.svs\n",
      "folder for train/test  TNE0028\n",
      "folder for train/test  TNE1405-HES\n",
      "TNE0500\n",
      "folder for train/test  TNE0868\n",
      "folder for train/test  TNE0956.svs\n",
      "folder for train/test  TNE1082-HES\n",
      "folder for train/test  TNE0308-HPS\n",
      "folder for train/test  TNE0987-HES\n",
      "folder for train/test  TNE1458\n",
      "folder for test  TNE1426\n",
      "folder for train/test  TNE0973-HES\n",
      "folder for train/test  TNE1092-HES\n",
      "folder for train/test  TNE1419\n",
      "folder for train/test  TNE0229\n",
      "folder for test  TNE0880\n",
      "folder for train/test  TNE0978-HES\n",
      "folder for train/test  TNE0056\n",
      "TNE1403-HES\n",
      "folder for train/test  TNE1079-HES\n",
      "folder for train/test  TNE0033\n",
      "folder for train/test  TNE1027\n",
      "TNE0563\n",
      "folder for train/test  TNE1088-HES\n",
      "folder for train/test  TNE0003\n",
      "folder for train/test  TNE1093-HES\n",
      "folder for train/test  TNE0234\n",
      "folder for test  TNE0885\n",
      "folder for train/test  TNE1098-HES.svs\n",
      "folder for train/test  TNE1407-HES\n",
      "folder for train/test  TNE0962.svs\n",
      "folder for train/test  TNE0061\n",
      "folder for train/test  TNE0862\n",
      "folder for train/test  TNE1430\n",
      "folder for train/test  TNE1423\n",
      "folder for train/test  TNE0015\n",
      "folder for train/test  TNE0515.svs\n",
      "folder for train/test  TNE1438.svs.svs\n",
      "folder for train/test  TNE1099-HES\n",
      "folder for train/test  TNE0808-HES\n",
      "folder for train/test  TNE1077-HES\n",
      "TNE1408-HES\n",
      "folder for train/test  TNE0073\n",
      "TNE0493\n",
      "folder for train/test  TNE1350\n",
      "folder for train/test  TNE0008\n",
      "folder for train/test  TNE0809\n",
      "folder for train/test  TNE0551.svs\n",
      "folder for train/test  TNE2149\n",
      "folder for train/test  TNE0305.svs\n",
      "folder for test  TNE0890\n",
      "folder for train/test  TNE1075-HES\n",
      "folder for train/test  TNE0953.svs\n",
      "folder for train/test  TNE0066\n",
      "folder for test  TNE0867\n",
      "folder for train/test  TNE1436\n",
      "folder for test  TNE1411\n",
      "folder for train/test  TNE0959.svs\n",
      "folder for train/test  TNE1006-HES\n",
      "TNE1084-HES\n",
      "TNE2105\n",
      "folder for train/test  TNE0546.svs\n",
      "folder for train/test  TNE0181-HPS\n",
      "folder for train/test  TNE1094-HES\n",
      "folder for test  TNE0417\n",
      "folder for train/test  TNE0078\n",
      "folder for train/test  TNE1356\n",
      "TNE2104\n",
      "TNE1456\n",
      "TNE2142\n",
      "folder for train/test  TNE1002-HES\n",
      "folder for train/test  TNE0895\n",
      "folder for train/test  TNE1424\n",
      "folder for train/test  TNE1417\n",
      "folder for train/test  TNE0872\n",
      "folder for train/test  TNE1012\n",
      "folder for train/test  TNE0797\n",
      "TNE0537-HES\n",
      "folder for train/test  TNE1100-HES\n",
      "folder for train/test  TNE0543\n",
      "folder for train/test  TNE1087-HES\n",
      "folder for train/test  TNE0025\n",
      "folder for train/test  TNE1344-HPS\n",
      "folder for train/test  TNE2141\n",
      "folder for train/test  TNE1095-HES\n",
      "folder for train/test  TNE0002\n",
      "folder for train/test  TNE1344\n",
      "folder for train/test  TNE1097-HES\n"
     ]
    },
    {
     "name": "stdout",
     "output_type": "stream",
     "text": [
      "folder for train/test  TNE0060\n",
      "folder for train/test  TNE1086-HES\n",
      "folder for train/test  TNE1025\n",
      "folder for train/test  TNE0877\n",
      "TNE0514-HES\n",
      "folder for train/test  TNE1089-HES\n",
      "folder for train/test  TNE0950.svs\n",
      "folder for train/test  TNE0983-HES\n",
      "folder for train/test  TNE1409-HES\n",
      "folder for train/test  TNE0007\n",
      "folder for train/test  TNE1344-HPS.svs\n",
      "folder for train/test  TNE0491.svs\n",
      "folder for train/test  TNE0889\n",
      "folder for train/test  TNE1418\n",
      "folder for test  TNE0180-HPS\n",
      "folder for train/test  TNE1013\n",
      "folder for train/test  TNE0949.svs\n",
      "folder for train/test  TNE0231\n",
      "folder for train/test  TNE0882\n",
      "folder for train/test  TNE2097\n",
      "folder for train/test  TNE0058\n",
      "folder for train/test  TNE0859\n",
      "folder for train/test  TNE0341\n",
      "TNE2127\n",
      "folder for train/test  TNE1076-HES\n"
     ]
    }
   ],
   "source": [
    "root_tiles = '/gpfsscratch/rech/uli/ueu39kt/Tiles_HE_all_samples_384_384_Vahadane_2'\n",
    "test_tiles_list = []\n",
    "train_tiles_list = []\n",
    "sample_for_test_only = []\n",
    "for folder in os.listdir(root_tiles):\n",
    "    if  folder.find('.txt') == -1 and folder[:7] in list(path_review_id['ID slide (optional)']) :\n",
    "        list_folder = os.listdir(os.path.join(root_tiles, folder, 'accept'))\n",
    "        random.shuffle(list_folder)\n",
    "        if random.random() > .10:\n",
    "            print('folder for train/test ', folder)\n",
    "            for tile in list_folder:\n",
    "                if random.random() < .4:\n",
    "                    train_tiles_list.append(os.path.join(root_tiles, folder, 'accept', tile))\n",
    "                else:\n",
    "                    test_tiles_list.append(os.path.join(root_tiles, folder, 'accept', tile))\n",
    "        else:\n",
    "            print('folder for test ', folder)\n",
    "            sample_for_test_only.append(folder)\n",
    "            for tile in list_folder:\n",
    "                test_tiles_list.append(os.path.join(root_tiles, folder, 'accept', tile))                         \n",
    "    else:\n",
    "        if folder.find('.txt') == -1:\n",
    "            print(folder)\n",
    "\n"
   ]
  },
  {
   "cell_type": "code",
   "execution_count": 25,
   "id": "f70aaf6d",
   "metadata": {},
   "outputs": [
    {
     "data": {
      "text/plain": [
       "2814554"
      ]
     },
     "execution_count": 25,
     "metadata": {},
     "output_type": "execute_result"
    }
   ],
   "source": [
    "len(test_tiles_list)"
   ]
  },
  {
   "cell_type": "code",
   "execution_count": 26,
   "id": "22932a5a",
   "metadata": {},
   "outputs": [
    {
     "data": {
      "text/plain": [
       "1666463"
      ]
     },
     "execution_count": 26,
     "metadata": {},
     "output_type": "execute_result"
    }
   ],
   "source": [
    "len(train_tiles_list)"
   ]
  },
  {
   "cell_type": "code",
   "execution_count": 27,
   "id": "670caa0d",
   "metadata": {},
   "outputs": [],
   "source": [
    "with open(os.path.join(root_tiles, 'train_path_review_tiles_barlow_twins.txt'), 'w') as f:\n",
    "    for ele in train_tiles_list:\n",
    "        f.write(ele+'\\n')"
   ]
  },
  {
   "cell_type": "code",
   "execution_count": 28,
   "id": "797686cc",
   "metadata": {},
   "outputs": [],
   "source": [
    "with open(os.path.join(root_tiles, 'test_path_review_tiles_barlow_twins.txt'), 'w') as f:\n",
    "    for ele in test_tiles_list:\n",
    "        f.write(ele+'\\n')"
   ]
  },
  {
   "cell_type": "code",
   "execution_count": 29,
   "id": "5bcc478a",
   "metadata": {},
   "outputs": [],
   "source": [
    "with open(os.path.join(root_tiles, 'samples_for_test_only_barlow_twins.txt'), 'w') as f:\n",
    "    for ele in sample_for_test_only:\n",
    "        f.write(ele+'\\n')"
   ]
  },
  {
   "cell_type": "markdown",
   "id": "ed06732f",
   "metadata": {},
   "source": [
    "### Create short list from the train set"
   ]
  },
  {
   "cell_type": "code",
   "execution_count": 4,
   "id": "9d9337c4",
   "metadata": {},
   "outputs": [],
   "source": [
    "train_list = []\n",
    "root_tiles = '/gpfsscratch/rech/uli/ueu39kt/Tiles_HE_all_samples_384_384_Vahadane_2'\n",
    "with open(os.path.join(root_tiles, 'train_path_review_tiles_barlow_twins.txt'), 'r') as f:\n",
    "    lines = f.readlines()\n",
    "    for l in lines:\n",
    "        train_list.append(l[:-1])"
   ]
  },
  {
   "cell_type": "code",
   "execution_count": 8,
   "id": "b42d8b5b",
   "metadata": {},
   "outputs": [
    {
     "data": {
      "text/plain": [
       "0.1200146657921598"
      ]
     },
     "execution_count": 8,
     "metadata": {},
     "output_type": "execute_result"
    }
   ],
   "source": [
    "200000 / len(train_list) "
   ]
  },
  {
   "cell_type": "code",
   "execution_count": 15,
   "id": "05480d8e",
   "metadata": {},
   "outputs": [],
   "source": [
    "infer_train_tiles = []\n",
    "random.shuffle(train_list)\n",
    "for ele in train_list:\n",
    "    if random.random() < 0.13:\n",
    "        infer_train_tiles.append(ele)"
   ]
  },
  {
   "cell_type": "code",
   "execution_count": 16,
   "id": "bb1c2859",
   "metadata": {},
   "outputs": [
    {
     "data": {
      "text/plain": [
       "217080"
      ]
     },
     "execution_count": 16,
     "metadata": {},
     "output_type": "execute_result"
    }
   ],
   "source": [
    "len(infer_train_tiles)"
   ]
  },
  {
   "cell_type": "code",
   "execution_count": 17,
   "id": "8dfa7734",
   "metadata": {},
   "outputs": [],
   "source": [
    "infer_train_tiles = infer_train_tiles[:200000]"
   ]
  },
  {
   "cell_type": "code",
   "execution_count": 19,
   "id": "012ffedf",
   "metadata": {},
   "outputs": [],
   "source": [
    "with open(os.path.join(root_tiles, 'infer_train_tiles_clustering.txt'), 'w') as f:\n",
    "    for ele in infer_train_tiles:\n",
    "        f.write(ele+'\\n')"
   ]
  },
  {
   "cell_type": "code",
   "execution_count": null,
   "id": "641634df",
   "metadata": {},
   "outputs": [],
   "source": []
  }
 ],
 "metadata": {
  "kernelspec": {
   "display_name": "Python 3 (ipykernel)",
   "language": "python",
   "name": "python3"
  },
  "language_info": {
   "codemirror_mode": {
    "name": "ipython",
    "version": 3
   },
   "file_extension": ".py",
   "mimetype": "text/x-python",
   "name": "python",
   "nbconvert_exporter": "python",
   "pygments_lexer": "ipython3",
   "version": "3.9.6"
  }
 },
 "nbformat": 4,
 "nbformat_minor": 5
}
