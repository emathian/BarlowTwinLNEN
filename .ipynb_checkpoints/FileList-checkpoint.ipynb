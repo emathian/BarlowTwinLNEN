{
 "cells": [
  {
   "cell_type": "code",
   "execution_count": 1,
   "id": "7cd5c928",
   "metadata": {},
   "outputs": [],
   "source": [
    "import os\n",
    "import matplotlib.pyplot as plt\n",
    "import numpy as np\n",
    "import random\n",
    "import pandas as pd"
   ]
  },
  {
   "cell_type": "markdown",
   "id": "73df9d68",
   "metadata": {},
   "source": [
    "## Dev"
   ]
  },
  {
   "cell_type": "code",
   "execution_count": 6,
   "id": "e679ab9a",
   "metadata": {},
   "outputs": [],
   "source": [
    "root_tiles = '/gpfsscratch/rech/uli/ueu39kt/Tiles_HE_all_samples_384_384_Vahadane_2'\n",
    "test_tiles_list = []\n",
    "for folder in os.listdir(root_tiles):\n",
    "    if folder.find('TNE0417') != -1 and folder.find('.txt') == -1:\n",
    "        for tile in os.listdir(os.path.join(root_tiles, folder, 'accept')):\n",
    "            if len(test_tiles_list) < 1000:\n",
    "                test_tiles_list.append(os.path.join(root_tiles, folder, 'accept', tile))\n",
    "            else:\n",
    "                break\n",
    "        break"
   ]
  },
  {
   "cell_type": "code",
   "execution_count": 7,
   "id": "0dfd6dd7",
   "metadata": {},
   "outputs": [],
   "source": [
    "with open(os.path.join(root_tiles, 'dev_barlow_twins.txt'), 'w') as f:\n",
    "    for ele in test_tiles_list:\n",
    "        f.write(ele+'\\n')"
   ]
  },
  {
   "cell_type": "markdown",
   "id": "d1d45d10",
   "metadata": {},
   "source": [
    "## All tiles "
   ]
  },
  {
   "cell_type": "code",
   "execution_count": 3,
   "id": "3a34fa4c",
   "metadata": {},
   "outputs": [
    {
     "data": {
      "text/plain": [
       "0      TNE0056\n",
       "1      TNE0057\n",
       "2      TNE0058\n",
       "3      TNE0060\n",
       "4      TNE0061\n",
       "        ...   \n",
       "260    TNE1009\n",
       "261    TNE0005\n",
       "262    TNE1080\n",
       "263    TNE1082\n",
       "264    TNE1087\n",
       "Name: ID slide (optional), Length: 265, dtype: object"
      ]
     },
     "execution_count": 3,
     "metadata": {},
     "output_type": "execute_result"
    }
   ],
   "source": [
    "path_review_id = pd.read_csv(\"TNEID_Included_path_review.csv\")\n",
    "path_review_id['ID slide (optional)']"
   ]
  },
  {
   "cell_type": "code",
   "execution_count": 12,
   "id": "06e8dcee",
   "metadata": {},
   "outputs": [
    {
     "name": "stdout",
     "output_type": "stream",
     "text": [
      "TNE1454\n",
      "TNE2117\n",
      "TNE0287-HPS\n",
      "TNE0547\n",
      "TNE1435\n",
      "TNE0794\n",
      "TNE0994-HES\n",
      "TNE0567.svs\n",
      "TNE233\n",
      "TNE1440\n",
      "TNE0590-001\n",
      "TNE0510-HES\n",
      "TNE0591.svs\n",
      "TNE1334\n",
      "TNE1434\n",
      "TNE2122\n",
      "TNE0278\n",
      "TNE1450\n",
      "TNE0519\n",
      "TNE0486\n",
      "TNE1101-HES\n",
      "TNE2112\n",
      "TNE2150\n",
      "TNE0591-HPS\n",
      "TNE0589\n",
      "TNE1444\n",
      "TNE0529\n",
      "TNE2136\n",
      "TNE0553\n",
      "TNE0810\n",
      "TNE0500\n",
      "TNE1403-HES\n",
      "TNE0563\n",
      "TNE1408-HES\n",
      "TNE0493\n",
      "TNE1084-HES\n",
      "TNE2105\n",
      "TNE2104\n",
      "TNE1456\n",
      "TNE2142\n",
      "TNE0537-HES\n",
      "TNE0514-HES\n",
      "TNE2127\n"
     ]
    }
   ],
   "source": [
    "root_tiles = '/gpfsscratch/rech/uli/ueu39kt/Tiles_HE_all_samples_384_384_Vahadane_2'\n",
    "test_tiles_list = []\n",
    "train_tiles_list = []\n",
    "for folder in os.listdir(root_tiles):\n",
    "    if  folder.find('.txt') == -1 and folder[:7] in list(path_review_id['ID slide (optional)']) :\n",
    "        list_folder = os.listdir(os.path.join(root_tiles, folder, 'accept'))\n",
    "        random.shuffle(list_folder)\n",
    "        for tile in list_folder:\n",
    "            if random.random() < .3:\n",
    "                train_tiles_list.append(os.path.join(root_tiles, folder, 'accept', tile))\n",
    "            else:\n",
    "                test_tiles_list.append(os.path.join(root_tiles, folder, 'accept', tile))\n",
    "    else:\n",
    "        if folder.find('.txt') == -1:\n",
    "            print(folder)\n",
    "\n"
   ]
  },
  {
   "cell_type": "code",
   "execution_count": 13,
   "id": "f70aaf6d",
   "metadata": {},
   "outputs": [
    {
     "data": {
      "text/plain": [
       "3137325"
      ]
     },
     "execution_count": 13,
     "metadata": {},
     "output_type": "execute_result"
    }
   ],
   "source": [
    "len(test_tiles_list)"
   ]
  },
  {
   "cell_type": "code",
   "execution_count": 14,
   "id": "22932a5a",
   "metadata": {},
   "outputs": [
    {
     "data": {
      "text/plain": [
       "1343692"
      ]
     },
     "execution_count": 14,
     "metadata": {},
     "output_type": "execute_result"
    }
   ],
   "source": [
    "len(train_tiles_list)"
   ]
  },
  {
   "cell_type": "code",
   "execution_count": 12,
   "id": "670caa0d",
   "metadata": {},
   "outputs": [],
   "source": [
    "with open(os.path.join(root_tiles, 'train_path_review_tiles_barlow_twins.txt'), 'w') as f:\n",
    "    for ele in train_tiles_list:\n",
    "        f.write(ele+'\\n')"
   ]
  },
  {
   "cell_type": "code",
   "execution_count": null,
   "id": "797686cc",
   "metadata": {},
   "outputs": [],
   "source": [
    "with open(os.path.join(root_tiles, 'test_path_review_tiles_barlow_twins.txt'), 'w') as f:\n",
    "    for ele in test_tiles_list:\n",
    "        f.write(ele+'\\n')"
   ]
  },
  {
   "cell_type": "code",
   "execution_count": null,
   "id": "5bcc478a",
   "metadata": {},
   "outputs": [],
   "source": []
  }
 ],
 "metadata": {
  "kernelspec": {
   "display_name": "Python 3 (ipykernel)",
   "language": "python",
   "name": "python3"
  },
  "language_info": {
   "codemirror_mode": {
    "name": "ipython",
    "version": 3
   },
   "file_extension": ".py",
   "mimetype": "text/x-python",
   "name": "python",
   "nbconvert_exporter": "python",
   "pygments_lexer": "ipython3",
   "version": "3.9.6"
  }
 },
 "nbformat": 4,
 "nbformat_minor": 5
}
