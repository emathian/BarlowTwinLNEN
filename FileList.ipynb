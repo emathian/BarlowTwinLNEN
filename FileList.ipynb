{
 "cells": [
  {
   "cell_type": "code",
   "execution_count": 3,
   "id": "7cd5c928",
   "metadata": {},
   "outputs": [],
   "source": [
    "import os\n",
    "import matplotlib.pyplot as plt\n",
    "import numpy as np\n",
    "import random\n",
    "import pandas as pd"
   ]
  },
  {
   "cell_type": "markdown",
   "id": "73df9d68",
   "metadata": {},
   "source": [
    "## Dev"
   ]
  },
  {
   "cell_type": "code",
   "execution_count": 6,
   "id": "e679ab9a",
   "metadata": {},
   "outputs": [],
   "source": [
    "root_tiles = '/gpfsscratch/rech/uli/ueu39kt/Tiles_HE_all_samples_384_384_Vahadane_2'\n",
    "test_tiles_list = []\n",
    "for folder in os.listdir(root_tiles):\n",
    "    if folder.find('TNE0417') != -1 and folder.find('.txt') == -1:\n",
    "        for tile in os.listdir(os.path.join(root_tiles, folder, 'accept')):\n",
    "            if len(test_tiles_list) < 1000:\n",
    "                test_tiles_list.append(os.path.join(root_tiles, folder, 'accept', tile))\n",
    "            else:\n",
    "                break\n",
    "        break"
   ]
  },
  {
   "cell_type": "code",
   "execution_count": 7,
   "id": "0dfd6dd7",
   "metadata": {},
   "outputs": [],
   "source": [
    "with open(os.path.join(root_tiles, 'dev_barlow_twins.txt'), 'w') as f:\n",
    "    for ele in test_tiles_list:\n",
    "        f.write(ele+'\\n')"
   ]
  },
  {
   "cell_type": "code",
   "execution_count": null,
   "id": "059692c4",
   "metadata": {},
   "outputs": [],
   "source": []
  }
 ],
 "metadata": {
  "kernelspec": {
   "display_name": "Python 3 (ipykernel)",
   "language": "python",
   "name": "python3"
  },
  "language_info": {
   "codemirror_mode": {
    "name": "ipython",
    "version": 3
   },
   "file_extension": ".py",
   "mimetype": "text/x-python",
   "name": "python",
   "nbconvert_exporter": "python",
   "pygments_lexer": "ipython3",
   "version": "3.9.6"
  }
 },
 "nbformat": 4,
 "nbformat_minor": 5
}
